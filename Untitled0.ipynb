{
  "nbformat": 4,
  "nbformat_minor": 0,
  "metadata": {
    "colab": {
      "provenance": [],
      "toc_visible": true,
      "authorship_tag": "ABX9TyPB29I2xtm0m7UzVTrNIN6S",
      "include_colab_link": true
    },
    "kernelspec": {
      "name": "python3",
      "display_name": "Python 3"
    },
    "language_info": {
      "name": "python"
    }
  },
  "cells": [
    {
      "cell_type": "markdown",
      "metadata": {
        "id": "view-in-github",
        "colab_type": "text"
      },
      "source": [
        "<a href=\"https://colab.research.google.com/github/Rahat-Ferdause/Google-Colab2/blob/main/Untitled0.ipynb\" target=\"_parent\"><img src=\"https://colab.research.google.com/assets/colab-badge.svg\" alt=\"Open In Colab\"/></a>"
      ]
    },
    {
      "cell_type": "code",
      "execution_count": null,
      "metadata": {
        "colab": {
          "base_uri": "https://localhost:8080/"
        },
        "id": "MzvLTUP-uGSM",
        "outputId": "4ada5d6a-5c22-41fe-b7e3-30129d209b3b"
      },
      "outputs": [
        {
          "output_type": "stream",
          "name": "stdout",
          "text": [
            "My First Code in Colab\n"
          ]
        }
      ],
      "source": [
        "print (\"My First Code in Colab\")"
      ]
    },
    {
      "cell_type": "markdown",
      "source": [
        "# *int*"
      ],
      "metadata": {
        "id": "Bv1YJMueauP9"
      }
    },
    {
      "cell_type": "code",
      "source": [
        "print('My first code in google colab')"
      ],
      "metadata": {
        "id": "IQtfiLjduOgD",
        "colab": {
          "base_uri": "https://localhost:8080/"
        },
        "outputId": "8fc309dd-f3c6-4dce-9b5b-801a5ac15d72"
      },
      "execution_count": null,
      "outputs": [
        {
          "output_type": "stream",
          "name": "stdout",
          "text": [
            "My first code in google colab\n"
          ]
        }
      ]
    },
    {
      "cell_type": "code",
      "source": [],
      "metadata": {
        "id": "MSrcKuxWvss7"
      },
      "execution_count": null,
      "outputs": []
    }
  ]
}