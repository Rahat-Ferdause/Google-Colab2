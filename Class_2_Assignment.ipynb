{
  "nbformat": 4,
  "nbformat_minor": 0,
  "metadata": {
    "colab": {
      "provenance": [],
      "toc_visible": true,
      "authorship_tag": "ABX9TyP1q63VGlVPaf5YxmvK8qRZ",
      "include_colab_link": true
    },
    "kernelspec": {
      "name": "python3",
      "display_name": "Python 3"
    },
    "language_info": {
      "name": "python"
    }
  },
  "cells": [
    {
      "cell_type": "markdown",
      "metadata": {
        "id": "view-in-github",
        "colab_type": "text"
      },
      "source": [
        "<a href=\"https://colab.research.google.com/github/Rahat-Ferdause/Google-Colab2/blob/main/Class_2_Assignment.ipynb\" target=\"_parent\"><img src=\"https://colab.research.google.com/assets/colab-badge.svg\" alt=\"Open In Colab\"/></a>"
      ]
    },
    {
      "cell_type": "code",
      "execution_count": null,
      "metadata": {
        "colab": {
          "base_uri": "https://localhost:8080/"
        },
        "id": "MzvLTUP-uGSM",
        "outputId": "4ada5d6a-5c22-41fe-b7e3-30129d209b3b"
      },
      "outputs": [
        {
          "output_type": "stream",
          "name": "stdout",
          "text": [
            "My First Code in Colab\n"
          ]
        }
      ],
      "source": [
        "print (\"My First Code in Colab\")"
      ]
    },
    {
      "cell_type": "markdown",
      "source": [
        "## *introduction*"
      ],
      "metadata": {
        "id": "Bv1YJMueauP9"
      }
    },
    {
      "cell_type": "code",
      "source": [
        "print('My first code in google colab')"
      ],
      "metadata": {
        "id": "IQtfiLjduOgD",
        "colab": {
          "base_uri": "https://localhost:8080/"
        },
        "outputId": "8fc309dd-f3c6-4dce-9b5b-801a5ac15d72"
      },
      "execution_count": null,
      "outputs": [
        {
          "output_type": "stream",
          "name": "stdout",
          "text": [
            "My first code in google colab\n"
          ]
        }
      ]
    },
    {
      "cell_type": "markdown",
      "source": [
        "# *Assignment*\n",
        "\n",
        "\n"
      ],
      "metadata": {
        "id": "2JmZ44WihVct"
      }
    },
    {
      "cell_type": "markdown",
      "source": [
        "# **2.1 Create variables for your name, age, and favorite color, then print them with descriptive labels.**"
      ],
      "metadata": {
        "id": "qL52ihsJHUb9"
      }
    },
    {
      "cell_type": "code",
      "source": [
        "name= \"Rahat\"\n",
        "address = \"Khulna\"\n",
        "age = \"26\"\n",
        "favorite_color = \"Blue\"\n",
        "print(\"Name:\", name)\n",
        "print(\"Age:\", age)\n",
        "print(\"Address:\", address)\n",
        "print(\"favorite_color:\", favorite_color)"
      ],
      "metadata": {
        "colab": {
          "base_uri": "https://localhost:8080/"
        },
        "id": "hmlAlN33hVAl",
        "outputId": "7a68e294-ba45-4150-a965-386ff78fd39f"
      },
      "execution_count": null,
      "outputs": [
        {
          "output_type": "stream",
          "name": "stdout",
          "text": [
            "Name: Rahat\n",
            "Age: 26\n",
            "Address: Khulna\n",
            "favorite_color: Blue\n"
          ]
        }
      ]
    },
    {
      "cell_type": "markdown",
      "source": [
        "# **2.2. Create one variable of each type and use the type() function to verify its type.**"
      ],
      "metadata": {
        "id": "xteQ0iEgIPET"
      }
    },
    {
      "cell_type": "code",
      "source": [
        "name = \"Rahat\"\n",
        "age = 25\n",
        "price = 99.99\n",
        "is_valid = True\n",
        "result = None\n",
        "print(type(name))\n",
        "print(type(age))\n",
        "print(type(price))\n",
        "print(type(is_valid))\n",
        "print(type(result))"
      ],
      "metadata": {
        "colab": {
          "base_uri": "https://localhost:8080/"
        },
        "id": "8v_Wp3wAI5xa",
        "outputId": "c3eeb29a-7840-4244-af80-12872f8a82d5"
      },
      "execution_count": null,
      "outputs": [
        {
          "output_type": "stream",
          "name": "stdout",
          "text": [
            "<class 'str'>\n",
            "<class 'int'>\n",
            "<class 'float'>\n",
            "<class 'bool'>\n",
            "<class 'NoneType'>\n"
          ]
        }
      ]
    },
    {
      "cell_type": "markdown",
      "source": [
        "# **2.3. Calculate the area and perimeter of a rectangle with length 7 and width 5**"
      ],
      "metadata": {
        "id": "JhxQnfR5JdqK"
      }
    },
    {
      "cell_type": "code",
      "source": [
        "length = 7\n",
        "width = 5\n",
        "\n",
        "area = length * width\n",
        "perimeter = 2 * (length + width)\n",
        "\n",
        "print(\"Area of the rectangle:\", area)\n",
        "print(\"Perimeter of the rectangle:\", perimeter)\n"
      ],
      "metadata": {
        "colab": {
          "base_uri": "https://localhost:8080/"
        },
        "id": "FFIc0WkbJk7i",
        "outputId": "c5141505-05a0-4363-f68f-9490838a0263"
      },
      "execution_count": 28,
      "outputs": [
        {
          "output_type": "stream",
          "name": "stdout",
          "text": [
            "Area of the rectangle: 35\n",
            "Perimeter of the rectangle: 24\n"
          ]
        }
      ]
    },
    {
      "cell_type": "markdown",
      "source": [
        "# **2.4. Create a list of 5 Bangladeshi foods, then access the first and last elements.**"
      ],
      "metadata": {
        "id": "Bz80lUKGO3p7"
      }
    },
    {
      "cell_type": "code",
      "source": [
        "Bangladeshi_food = [\"apple\", \"banana\", \"orange\", \"mango\", \"pineapple\"]\n",
        "first_element = Bangladeshi_food[0]\n",
        "last_element = Bangladeshi_food[-1]\n",
        "print(\"First Element:\", first_element)\n",
        "print(\"Last Element:\", last_element)"
      ],
      "metadata": {
        "colab": {
          "base_uri": "https://localhost:8080/"
        },
        "id": "7x-2TpbVO7Fr",
        "outputId": "29ede0c7-4b21-4f21-ace0-636d79e087fe"
      },
      "execution_count": null,
      "outputs": [
        {
          "output_type": "stream",
          "name": "stdout",
          "text": [
            "First Element: apple\n",
            "Last Element: pineapple\n"
          ]
        }
      ]
    },
    {
      "cell_type": "markdown",
      "source": [
        "# **2.5 Create a list of 5 numbers, add a new number, remove one, and then sort the list.**"
      ],
      "metadata": {
        "id": "bkr_zsdSQvMk"
      }
    },
    {
      "cell_type": "code",
      "source": [
        "Numbers = [4, 2, 1, 5, 3]\n",
        "Numbers.append(6)\n",
        "print(Numbers)\n",
        "\n",
        "Numbers.remove(4)\n",
        "print(Numbers)\n",
        "\n",
        "Numbers.insert(4, 4)\n",
        "print(Numbers)\n",
        "\n",
        "Numbers.sort()\n",
        "print(\"Ascending order:\", Numbers)\n",
        "\n",
        "Numbers.reverse()\n",
        "print(\"Descending order:\", Numbers)"
      ],
      "metadata": {
        "id": "KbccSzTsQ1VD",
        "colab": {
          "base_uri": "https://localhost:8080/"
        },
        "outputId": "6c249cd0-23db-46ef-e72b-a82e8f1f18e6"
      },
      "execution_count": null,
      "outputs": [
        {
          "output_type": "stream",
          "name": "stdout",
          "text": [
            "[4, 2, 1, 5, 3, 6]\n",
            "[2, 1, 5, 3, 6]\n",
            "[2, 1, 5, 3, 4, 6]\n",
            "Ascending order: [1, 2, 3, 4, 5, 6]\n",
            "Descending order: [6, 5, 4, 3, 2, 1]\n"
          ]
        }
      ]
    },
    {
      "cell_type": "markdown",
      "source": [
        "# **2.6 Create a dictionary about yourself with at least 4 key-value pairs.**"
      ],
      "metadata": {
        "id": "rQVJHTHQaByx"
      }
    },
    {
      "cell_type": "code",
      "source": [
        "Profile = {\n",
        "    \"name\": \"Ferdause Rahatul\",\n",
        "    \"age\": 26,\n",
        "    \"isstudent\": True,\n",
        "    \"address\": \"Khulna\",\n",
        "    \"course\": [\"Data Science\", \"Business Analytics\", \"Cyber Security\"]\n",
        "}\n",
        "name = Profile[\"name\"]\n",
        "age = Profile[\"age\"]\n",
        "address = Profile[\"address\"]\n",
        "course = Profile[\"course\"][0]\n",
        "print(name)\n",
        "print(age)\n",
        "print(address)\n",
        "print(course)\n"
      ],
      "metadata": {
        "colab": {
          "base_uri": "https://localhost:8080/"
        },
        "id": "O3SLOnmfaIOQ",
        "outputId": "615de585-c467-4770-a83c-eb88aaeea7e5"
      },
      "execution_count": null,
      "outputs": [
        {
          "output_type": "stream",
          "name": "stdout",
          "text": [
            "Ferdause Rahatul\n",
            "26\n",
            "Khulna\n",
            "Data Science\n"
          ]
        }
      ]
    },
    {
      "cell_type": "markdown",
      "source": [
        "# **2.7 Create a tuple with the latitude and longitude of a famous place in Bangladesh.**"
      ],
      "metadata": {
        "id": "Dar5JKWqcfp9"
      }
    },
    {
      "cell_type": "code",
      "source": [
        "# Latitude and Longitude of Cox's Bazar\n",
        "Beach = (21.4272, 92.0000)\n",
        "print(\"Latitude:\", Beach[0])\n",
        "print(\"Longitude:\", Beach[1])"
      ],
      "metadata": {
        "colab": {
          "base_uri": "https://localhost:8080/"
        },
        "id": "0zeSaO5odVJw",
        "outputId": "a9120527-bfd5-4420-a987-20127e4ea58f"
      },
      "execution_count": null,
      "outputs": [
        {
          "output_type": "stream",
          "name": "stdout",
          "text": [
            "Latitude: 21.4272\n",
            "Longitude: 92.0\n"
          ]
        }
      ]
    },
    {
      "cell_type": "markdown",
      "source": [
        "# **2.8 Create two sets of colors and find their union and intersection**"
      ],
      "metadata": {
        "id": "M2qEqjS4fEEi"
      }
    },
    {
      "cell_type": "code",
      "source": [
        "color_1 = {\"Blue\", \"Green\", \"Black\", \"Brown\"}\n",
        "color_2 = {\"Blue\", \"Green\", \"Orange\", \"Red\"}\n",
        "\n",
        "color_1.add(\"Yellow\")\n",
        "print(color_1)\n",
        "\n",
        "color_1.update([\"Magenta\", \"White\"])\n",
        "print(color_1)\n",
        "\n",
        "intersection = color_1.intersection(color_2)\n",
        "print(\"Intersection:\", intersection)\n",
        "\n",
        "union = color_1.union(color_2)\n",
        "print(\"Union:\", union)\n"
      ],
      "metadata": {
        "colab": {
          "base_uri": "https://localhost:8080/"
        },
        "id": "0kSsQNDvfOHB",
        "outputId": "0526939c-8a15-4800-d0fb-1177f0bc250d"
      },
      "execution_count": null,
      "outputs": [
        {
          "output_type": "stream",
          "name": "stdout",
          "text": [
            "{'Brown', 'Yellow', 'Blue', 'Green', 'Black'}\n",
            "{'Brown', 'Yellow', 'Blue', 'Green', 'White', 'Magenta', 'Black'}\n",
            "Intersection: {'Blue', 'Green'}\n",
            "Union: {'Brown', 'Yellow', 'Blue', 'Orange', 'Green', 'White', 'Red', 'Magenta', 'Black'}\n"
          ]
        }
      ]
    },
    {
      "cell_type": "markdown",
      "source": [
        "# **2.9 Write a program that checks if a number is positive, negative, or zero.**"
      ],
      "metadata": {
        "id": "p7_efRzYjWta"
      }
    },
    {
      "cell_type": "code",
      "source": [
        "number = int(input(\"Enter a number: \"))\n",
        "\n",
        "if number > 0:\n",
        "  print(\"The number is positive.\")\n",
        "elif number < 0:\n",
        "  print(\"The number is negative.\")\n",
        "else:\n",
        "  print(\"The number is zero.\")"
      ],
      "metadata": {
        "colab": {
          "base_uri": "https://localhost:8080/"
        },
        "id": "fTRMj6knjdIh",
        "outputId": "ed4f5127-fc42-4c29-c3ba-3d8a4aa03265"
      },
      "execution_count": null,
      "outputs": [
        {
          "output_type": "stream",
          "name": "stdout",
          "text": [
            "Enter a number: -21\n",
            "The number is negative.\n"
          ]
        }
      ]
    },
    {
      "cell_type": "markdown",
      "source": [
        "# **2.10 Write a program that checks eligibility for a discount (student AND under 25, OR senior over 60).**"
      ],
      "metadata": {
        "id": "ziMEYzXYlV4i"
      }
    },
    {
      "cell_type": "code",
      "source": [
        "is_student = True\n",
        "is_senior = True\n",
        "student_age = 22\n",
        "senior_age = 21\n",
        "\n",
        "              #method 1\n",
        "#if is_student and is_senior:\n",
        "#  if (student_age < 25) and (senior_age > 60):\n",
        "#    print(\"Both are eligible for a discount.\")\n",
        "\n",
        "#  elif student_age < 25:\n",
        "#    print(\"Student are eligible for a discount.\")\n",
        "\n",
        "#  elif senior_age > 60:\n",
        "#    print(\"Senior are eligible for a discount.\")\n",
        "\n",
        "#  else:\n",
        "#    print(\"Both are not eligible for a discount.\")\n",
        "\n",
        "#else:\n",
        "#  print(\"You are not eligible for a discount.\")\n",
        "\n",
        "\n",
        "              #method 2\n",
        "#if is_student and is_senior:\n",
        "#  if (student_age < 25) or (senior_age > 60):\n",
        "#    print(\"You are eligible for a discount.\")\n",
        "#  else:\n",
        "#    print(\"You are not eligible for a discount.\")\n",
        "#else:\n",
        "#  print(\"You are not eligible for a discount.\")\n",
        "\n",
        "\n",
        "              #method 3\n",
        "if is_student and is_senior:\n",
        "  if (is_student and student_age < 25) and (is_senior and senior_age > 60):\n",
        "    print(\"Both are eligible for a discount.\")\n",
        "\n",
        "  elif is_student and student_age < 25:\n",
        "      print(\"student are eligible for a discount.\")\n",
        "\n",
        "  elif is_senior and senior_age > 60:\n",
        "      print(\"senior are eligible for a discount.\")\n",
        "\n",
        "  else:\n",
        "    print(\"Both are not eligible for a discount.\")\n",
        "\n",
        "else:\n",
        "  print(\"You are not eligible for a discount.\")"
      ],
      "metadata": {
        "id": "H5DkICdjlbdS",
        "colab": {
          "base_uri": "https://localhost:8080/"
        },
        "outputId": "9fbd5ea6-1e00-405c-dfbe-edc41aaab0ec"
      },
      "execution_count": null,
      "outputs": [
        {
          "output_type": "stream",
          "name": "stdout",
          "text": [
            "student are eligible for a discount.\n"
          ]
        }
      ]
    },
    {
      "cell_type": "markdown",
      "source": [
        "# **2.11 Write a program that prints the first 10 even numbers using a for or while loop.**"
      ],
      "metadata": {
        "id": "INJKM9Ck8t2p"
      }
    },
    {
      "cell_type": "code",
      "source": [
        "#for i in range(0,20,2):\n",
        "#  print(i)\n",
        "count = 0\n",
        "while count < 20:\n",
        "  print(count)\n",
        "  count += 2\n"
      ],
      "metadata": {
        "id": "vGaa__Wsn9Ts",
        "colab": {
          "base_uri": "https://localhost:8080/"
        },
        "outputId": "97076a67-56b0-4a8e-aeba-6de86d5bd9e8"
      },
      "execution_count": null,
      "outputs": [
        {
          "output_type": "stream",
          "name": "stdout",
          "text": [
            "0\n",
            "2\n",
            "4\n",
            "6\n",
            "8\n",
            "10\n",
            "12\n",
            "14\n",
            "16\n",
            "18\n"
          ]
        }
      ]
    },
    {
      "cell_type": "markdown",
      "source": [
        "# **2.12 Write a program that prints a simple number pyramid pattern using nested loops.**"
      ],
      "metadata": {
        "id": "Pk39KVe__sN3"
      }
    },
    {
      "cell_type": "code",
      "source": [
        "# Pattern printing\n",
        "for i in range(0, 10):\n",
        "  if i % 2 == 0:\n",
        "    continue\n",
        "  print(\"*\" * i)"
      ],
      "metadata": {
        "colab": {
          "base_uri": "https://localhost:8080/"
        },
        "id": "LDtbgLkC-Ozv",
        "outputId": "f5b5d335-38a2-4a15-9d2c-dfeefab5e26d"
      },
      "execution_count": null,
      "outputs": [
        {
          "output_type": "stream",
          "name": "stdout",
          "text": [
            "*\n",
            "***\n",
            "*****\n",
            "*******\n",
            "*********\n"
          ]
        }
      ]
    },
    {
      "cell_type": "markdown",
      "source": [
        "# **2.13 Create a function that converts temperature from Celsius to Fahrenheit using the formula: F = (C × 9/5) + 32**"
      ],
      "metadata": {
        "id": "GkJsAtbjAUBP"
      }
    },
    {
      "cell_type": "code",
      "source": [
        "#celsius = 35\n",
        "def convert(celsius):\n",
        "  celsius = 35\n",
        "  #global celsius\n",
        "  fahrenheit = ((celsius * 9/5) + 32)\n",
        "  return fahrenheit\n",
        "print(convert(celsius))"
      ],
      "metadata": {
        "id": "BzBeMQfIAa84",
        "colab": {
          "base_uri": "https://localhost:8080/"
        },
        "outputId": "3a08618c-ba36-454e-cc5c-804d77129289"
      },
      "execution_count": 30,
      "outputs": [
        {
          "output_type": "stream",
          "name": "stdout",
          "text": [
            "95.0\n"
          ]
        }
      ]
    },
    {
      "cell_type": "markdown",
      "source": [
        "# **2.14 Create a function with default parameters that calculates the area of a rectangle.**"
      ],
      "metadata": {
        "id": "zNhGryCWwfFE"
      }
    },
    {
      "cell_type": "code",
      "source": [
        "def calculate_rectangle_area(length, width):\n",
        "  area = length * width\n",
        "  return area\n",
        "\n",
        "rectangle_area = calculate_rectangle_area(5, 7)\n",
        "print(\"The area of the rectangle is:\", rectangle_area)"
      ],
      "metadata": {
        "colab": {
          "base_uri": "https://localhost:8080/"
        },
        "id": "6W--7w5zwlC8",
        "outputId": "3cfb5a05-38b8-487f-955e-26603282f9d9"
      },
      "execution_count": 26,
      "outputs": [
        {
          "output_type": "stream",
          "name": "stdout",
          "text": [
            "The area of the rectangle is: 35\n"
          ]
        }
      ]
    }
  ]
}